{
 "cells": [
  {
   "cell_type": "markdown",
   "metadata": {},
   "source": [
    "Modules required to run code"
   ]
  },
  {
   "cell_type": "code",
   "execution_count": 92,
   "metadata": {},
   "outputs": [],
   "source": [
    "import json\n",
    "import requests\n",
    "from enum import Enum\n",
    "import pymongo\n",
    "import sys"
   ]
  },
  {
   "cell_type": "markdown",
   "metadata": {},
   "source": [
    "Some definitions to keep the code cleaner"
   ]
  },
  {
   "cell_type": "code",
   "execution_count": 93,
   "metadata": {},
   "outputs": [],
   "source": [
    "class KivaApi(Enum):\n",
    "    BASE_URL = \"https://api.kivaws.org\"\n",
    "    SEARCH = BASE_URL + \"/v1/loans/search.json?\"\n",
    "    GET_LOAN = BASE_URL + \"/v1/loans/\"\n",
    "    \n",
    "class Status(Enum):\n",
    "    FUNDRAISING = \"fundraising\"\n",
    "    FUNDED = \"funded\"\n",
    "    EXPIRED = \"expired\"\n",
    "    NA = \"na\""
   ]
  },
  {
   "cell_type": "markdown",
   "metadata": {},
   "source": [
    "Simple search function to find loans"
   ]
  },
  {
   "cell_type": "code",
   "execution_count": 94,
   "metadata": {},
   "outputs": [],
   "source": [
    "def search(status = Status.FUNDED):\n",
    "\n",
    "    req = KivaApi.SEARCH.value \n",
    "    if status != Status.NA:\n",
    "        req += \"status=\" + status.value\n",
    "    \n",
    "    #sample request\n",
    "    #response = requests.get(\"http://api.kivaws.org/v1/loans/search.json?status=funded\")\n",
    "    response = requests.get(req)\n",
    "    if response.status_code != 200:\n",
    "        raise ValueError('Kiva API search failed: status_code =' + str(response.status_code))\n",
    "    \n",
    "    loans = json.loads(response.content).get('loans')\n",
    "    \n",
    "    return loans\n",
    "    "
   ]
  },
  {
   "cell_type": "markdown",
   "metadata": {},
   "source": [
    "To test search "
   ]
  },
  {
   "cell_type": "code",
   "execution_count": 144,
   "metadata": {},
   "outputs": [
    {
     "name": "stdout",
     "output_type": "stream",
     "text": [
      "[{'id': 1642943, 'name': 'Esther', 'description': {'languages': ['en']}, 'status': 'funded', 'funded_amount': 100, 'image': {'id': 2994487, 'template_id': 1}, 'activity': 'Farming', 'sector': 'Agriculture', 'themes': ['Underfunded Areas', 'Rural Exclusion', 'Vulnerable Groups', 'Innovative Loans', 'Conflict Zones'], 'use': 'to purchase more land for growing maize in order to earn higher profits next harvest and increase long-term prosperity.', 'location': {'country_code': 'NG', 'country': 'Nigeria', 'town': 'Kaduna', 'geo': {'level': 'town', 'pairs': '10.510464 7.416505', 'type': 'point'}}, 'partner_id': 288, 'posted_date': '2018-11-13T04:00:10Z', 'planned_expiration_date': '2018-12-13T04:00:10Z', 'loan_amount': 100, 'borrower_count': 1, 'lender_count': 4, 'bonus_credit_eligibility': True, 'tags': [{'name': '#Vegan'}]}, {'id': 1643228, 'name': 'Teresita', 'description': {'languages': ['en']}, 'status': 'funded', 'funded_amount': 500, 'image': {'id': 2994835, 'template_id': 1}, 'activity': 'General Store', 'sector': 'Retail', 'use': 'to buy items to sell such as beverages, canned goods, junk food, and other groceries.', 'location': {'country_code': 'PH', 'country': 'Philippines', 'town': 'Tacloban City, Leyte', 'geo': {'level': 'town', 'pairs': '11.254339 124.961687', 'type': 'point'}}, 'partner_id': 145, 'posted_date': '2018-11-13T04:00:09Z', 'planned_expiration_date': '2018-12-13T04:00:09Z', 'loan_amount': 500, 'borrower_count': 1, 'lender_count': 7, 'bonus_credit_eligibility': True, 'tags': [{'name': '#Woman Owned Biz'}, {'name': '#Elderly'}]}, {'id': 1643068, 'name': 'Elina', 'description': {'languages': ['en']}, 'status': 'funded', 'funded_amount': 125, 'image': {'id': 2994641, 'template_id': 1}, 'activity': 'General Store', 'sector': 'Retail', 'themes': ['Refugees/Displaced', 'SME', 'Job Creation', 'Underfunded Areas', 'Growing Businesses', 'Vulnerable Groups'], 'use': 'to buy more supplies for her shop.', 'location': {'country_code': 'RW', 'country': 'Rwanda', 'town': 'Gicumbi', 'geo': {'level': 'town', 'pairs': '-1.993217 30.36472', 'type': 'point'}}, 'partner_id': 319, 'posted_date': '2018-11-13T02:10:03Z', 'planned_expiration_date': '2018-12-13T02:10:03Z', 'loan_amount': 125, 'borrower_count': 1, 'lender_count': 5, 'bonus_credit_eligibility': False, 'tags': [{'name': 'volunteer_pick'}, {'name': 'volunteer_like'}, {'name': '#Woman Owned Biz'}]}, {'id': 1643756, 'name': 'Cesar Elvis', 'description': {'languages': ['es', 'en']}, 'status': 'funded', 'funded_amount': 300, 'image': {'id': 2995549, 'template_id': 1}, 'activity': 'Pigs', 'sector': 'Agriculture', 'themes': ['Underfunded Areas'], 'use': 'to invest in purchasing a larger number of pigs to sell and food for them.', 'location': {'country_code': 'PE', 'country': 'Peru', 'town': 'Nanchoc - San Miguel - Cajamarca', 'geo': {'level': 'town', 'pairs': '-6.959268 -79.242077', 'type': 'point'}}, 'partner_id': 143, 'posted_date': '2018-11-13T01:20:03Z', 'planned_expiration_date': '2018-12-13T01:20:03Z', 'loan_amount': 300, 'borrower_count': 1, 'lender_count': 9, 'bonus_credit_eligibility': True, 'tags': []}, {'id': 1642963, 'name': 'Yushau', 'description': {'languages': ['en']}, 'status': 'funded', 'funded_amount': 50, 'image': {'id': 2994514, 'template_id': 1}, 'activity': 'Primary/secondary school costs', 'sector': 'Education', 'themes': ['Underfunded Areas', 'Innovative Loans', 'Vulnerable Groups', 'Rural Exclusion', 'Conflict Zones'], 'use': \"to pay children's school fees for a higher quality education and good jobs in the future.\", 'location': {'country_code': 'NG', 'country': 'Nigeria', 'town': 'Kaduna', 'geo': {'level': 'town', 'pairs': '10.510464 7.416505', 'type': 'point'}}, 'partner_id': 288, 'posted_date': '2018-11-13T01:10:05Z', 'planned_expiration_date': '2018-12-13T01:10:05Z', 'loan_amount': 50, 'borrower_count': 1, 'lender_count': 2, 'bonus_credit_eligibility': True, 'tags': [{'name': '#Vegan'}, {'name': '#Schooling'}]}, {'id': 1642947, 'name': 'Abdulhamid', 'description': {'languages': ['en']}, 'status': 'funded', 'funded_amount': 50, 'image': {'id': 2994492, 'template_id': 1}, 'activity': 'Farming', 'sector': 'Agriculture', 'themes': ['Underfunded Areas', 'Rural Exclusion', 'Vulnerable Groups', 'Innovative Loans', 'Conflict Zones'], 'use': 'to store maize until prices rebound after the harvest season in order to make more money and enhance standard of living.', 'location': {'country_code': 'NG', 'country': 'Nigeria', 'town': 'Kaduna', 'geo': {'level': 'town', 'pairs': '10.510464 7.416505', 'type': 'point'}}, 'partner_id': 288, 'posted_date': '2018-11-13T01:10:04Z', 'planned_expiration_date': '2018-12-13T01:10:04Z', 'loan_amount': 50, 'borrower_count': 1, 'lender_count': 2, 'bonus_credit_eligibility': True, 'tags': [{'name': '#Vegan'}]}, {'id': 1642831, 'name': 'Deborah', 'description': {'languages': ['en']}, 'status': 'funded', 'funded_amount': 100, 'image': {'id': 2994355, 'template_id': 1}, 'activity': 'Farming', 'sector': 'Agriculture', 'themes': ['Underfunded Areas', 'Rural Exclusion', 'Vulnerable Groups', 'Innovative Loans', 'Conflict Zones'], 'use': 'to buy more land to grow maize.', 'location': {'country_code': 'NG', 'country': 'Nigeria', 'town': 'Kaduna', 'geo': {'level': 'town', 'pairs': '10.510464 7.416505', 'type': 'point'}}, 'partner_id': 288, 'posted_date': '2018-11-13T00:00:05Z', 'planned_expiration_date': '2018-12-13T00:00:05Z', 'loan_amount': 100, 'borrower_count': 1, 'lender_count': 4, 'bonus_credit_eligibility': True, 'tags': [{'name': '#Vegan'}]}, {'id': 1642941, 'name': 'Ubale', 'description': {'languages': ['en']}, 'status': 'funded', 'funded_amount': 50, 'image': {'id': 2994484, 'template_id': 1}, 'activity': 'Primary/secondary school costs', 'sector': 'Education', 'themes': ['Underfunded Areas', 'Innovative Loans', 'Vulnerable Groups', 'Rural Exclusion', 'Conflict Zones'], 'use': \"to pay children's school fees for a higher quality education and good jobs in the future.\", 'location': {'country_code': 'NG', 'country': 'Nigeria', 'town': 'Kaduna', 'geo': {'level': 'town', 'pairs': '10.510464 7.416505', 'type': 'point'}}, 'partner_id': 288, 'posted_date': '2018-11-12T23:00:04Z', 'planned_expiration_date': '2018-12-12T23:00:04Z', 'loan_amount': 50, 'borrower_count': 1, 'lender_count': 2, 'bonus_credit_eligibility': True, 'tags': [{'name': '#Vegan'}, {'name': '#Schooling'}]}, {'id': 1642929, 'name': 'Rifkatu', 'description': {'languages': ['en']}, 'status': 'funded', 'funded_amount': 100, 'image': {'id': 2980439, 'template_id': 1}, 'activity': 'Personal Expenses', 'sector': 'Personal Use', 'themes': ['Underfunded Areas', 'Innovative Loans', 'Vulnerable Groups', 'Rural Exclusion', 'Conflict Zones'], 'use': 'to buy more nutritious food to eat all year round for a healthier and more productive life.', 'location': {'country_code': 'NG', 'country': 'Nigeria', 'town': 'Kaduna', 'geo': {'level': 'town', 'pairs': '10.510464 7.416505', 'type': 'point'}}, 'partner_id': 288, 'posted_date': '2018-11-12T22:50:09Z', 'planned_expiration_date': '2018-12-12T22:50:09Z', 'loan_amount': 100, 'borrower_count': 1, 'lender_count': 3, 'bonus_credit_eligibility': True, 'tags': [{'name': 'user_favorite'}, {'name': '#Vegan'}]}, {'id': 1643731, 'name': 'Agustin', 'description': {'languages': ['es', 'en']}, 'status': 'funded', 'funded_amount': 150, 'image': {'id': 2995516, 'template_id': 1}, 'activity': 'Animal Sales', 'sector': 'Agriculture', 'themes': ['Underfunded Areas'], 'use': 'to buy barnyard fowl, such as turkeys, chickens, etc., and to buy animal feed.', 'location': {'country_code': 'PE', 'country': 'Peru', 'town': 'Cayaltí - Chiclayo', 'geo': {'level': 'town', 'pairs': '-6.886811 -79.565963', 'type': 'point'}}, 'partner_id': 143, 'posted_date': '2018-11-12T22:50:03Z', 'planned_expiration_date': '2018-12-12T22:50:03Z', 'loan_amount': 150, 'borrower_count': 1, 'lender_count': 6, 'bonus_credit_eligibility': True, 'tags': []}, {'id': 1642371, 'name': \"Saem's Group\", 'description': {'languages': ['en']}, 'status': 'funded', 'funded_amount': 150, 'image': {'id': 2993791, 'template_id': 1}, 'activity': 'Home Appliances', 'sector': 'Personal Use', 'themes': ['Earth Day Campaign', 'Water and Sanitation'], 'use': 'to buy a water filter to provide safe drinking water for his family.', 'location': {'country_code': 'KH', 'country': 'Cambodia', 'town': 'Takeo', 'geo': {'level': 'town', 'pairs': '10.932152 104.798771', 'type': 'point'}}, 'partner_id': 311, 'posted_date': '2018-11-12T22:40:04Z', 'planned_expiration_date': '2018-12-12T22:40:04Z', 'loan_amount': 150, 'borrower_count': 3, 'lender_count': 5, 'bonus_credit_eligibility': False, 'tags': [{'name': '#Eco-friendly'}, {'name': '#Health and Sanitation'}, {'name': '#Technology'}]}, {'id': 1642846, 'name': 'Saratu', 'description': {'languages': ['en']}, 'status': 'funded', 'funded_amount': 50, 'image': {'id': 2980455, 'template_id': 1}, 'activity': 'Personal Expenses', 'sector': 'Personal Use', 'themes': ['Underfunded Areas', 'Innovative Loans', 'Vulnerable Groups', 'Rural Exclusion', 'Conflict Zones'], 'use': 'to buy more nutritious food to eat all year-round for a healthier and more productive life.', 'location': {'country_code': 'NG', 'country': 'Nigeria', 'town': 'Kaduna', 'geo': {'level': 'town', 'pairs': '10.510464 7.416505', 'type': 'point'}}, 'partner_id': 288, 'posted_date': '2018-11-12T22:30:05Z', 'planned_expiration_date': '2018-12-12T22:30:05Z', 'loan_amount': 50, 'borrower_count': 1, 'lender_count': 1, 'bonus_credit_eligibility': True, 'tags': [{'name': '#Vegan'}]}, {'id': 1642916, 'name': 'Solomon', 'description': {'languages': ['en']}, 'status': 'funded', 'funded_amount': 100, 'image': {'id': 2994458, 'template_id': 1}, 'activity': 'Primary/secondary school costs', 'sector': 'Education', 'themes': ['Underfunded Areas', 'Innovative Loans', 'Vulnerable Groups', 'Rural Exclusion', 'Conflict Zones'], 'use': \"to pay his child's school fees for a higher quality education and a good job in the future.\", 'location': {'country_code': 'NG', 'country': 'Nigeria', 'town': 'Kaduna', 'geo': {'level': 'town', 'pairs': '10.510464 7.416505', 'type': 'point'}}, 'partner_id': 288, 'posted_date': '2018-11-12T22:30:05Z', 'planned_expiration_date': '2018-12-12T22:30:05Z', 'loan_amount': 100, 'borrower_count': 1, 'lender_count': 3, 'bonus_credit_eligibility': True, 'tags': [{'name': '#Vegan'}, {'name': '#Schooling'}]}, {'id': 1642917, 'name': 'Sunusi', 'description': {'languages': ['en']}, 'status': 'funded', 'funded_amount': 50, 'image': {'id': 2994461, 'template_id': 1}, 'activity': 'Farming', 'sector': 'Agriculture', 'themes': ['Underfunded Areas', 'Innovative Loans', 'Vulnerable Groups', 'Rural Exclusion', 'Conflict Zones'], 'use': \"to harvest his maize and pay children's school fees, for a higher quality education and good jobs in the future.\", 'location': {'country_code': 'NG', 'country': 'Nigeria', 'town': 'Kaduna', 'geo': {'level': 'town', 'pairs': '10.510464 7.416505', 'type': 'point'}}, 'partner_id': 288, 'posted_date': '2018-11-12T22:30:05Z', 'planned_expiration_date': '2018-12-12T22:30:05Z', 'loan_amount': 50, 'borrower_count': 1, 'lender_count': 2, 'bonus_credit_eligibility': True, 'tags': [{'name': '#Vegan'}]}, {'id': 1642906, 'name': 'Yakubu', 'description': {'languages': ['en']}, 'status': 'funded', 'funded_amount': 50, 'image': {'id': 2994444, 'template_id': 1}, 'activity': 'Personal Housing Expenses', 'sector': 'Housing', 'themes': ['Underfunded Areas', 'Innovative Loans', 'Vulnerable Groups', 'Rural Exclusion', 'Conflict Zones'], 'use': 'to purchase building materials for home improvements that will enhance his standard of living.', 'location': {'country_code': 'NG', 'country': 'Nigeria', 'town': 'Kaduna', 'geo': {'level': 'town', 'pairs': '10.510464 7.416505', 'type': 'point'}}, 'partner_id': 288, 'posted_date': '2018-11-12T22:20:06Z', 'planned_expiration_date': '2018-12-12T22:20:06Z', 'loan_amount': 50, 'borrower_count': 1, 'lender_count': 2, 'bonus_credit_eligibility': True, 'tags': [{'name': '#Vegan'}]}, {'id': 1642902, 'name': 'Uba', 'description': {'languages': ['en']}, 'status': 'funded', 'funded_amount': 50, 'image': {'id': 2994441, 'template_id': 1}, 'activity': 'Primary/secondary school costs', 'sector': 'Education', 'themes': ['Underfunded Areas', 'Innovative Loans', 'Vulnerable Groups', 'Rural Exclusion', 'Conflict Zones'], 'use': 'to pay children’s tuition and uniforms for the next term, thereby eliminating pressure to sell corn for low prices at harvest and increasing farm margins.', 'location': {'country_code': 'NG', 'country': 'Nigeria', 'town': 'Kaduna', 'geo': {'level': 'town', 'pairs': '10.510464 7.416505', 'type': 'point'}}, 'partner_id': 288, 'posted_date': '2018-11-12T22:10:05Z', 'planned_expiration_date': '2018-12-12T22:10:05Z', 'loan_amount': 50, 'borrower_count': 1, 'lender_count': 2, 'bonus_credit_eligibility': True, 'tags': [{'name': 'volunteer_like'}, {'name': '#Vegan'}, {'name': '#Schooling'}]}, {'id': 1642744, 'name': 'Abubakar', 'description': {'languages': ['en']}, 'status': 'funded', 'funded_amount': 50, 'image': {'id': 2994258, 'template_id': 1}, 'activity': 'Farming', 'sector': 'Agriculture', 'themes': ['Underfunded Areas', 'Innovative Loans', 'Vulnerable Groups', 'Rural Exclusion', 'Conflict Zones'], 'use': 'to purchase more land for growing maize in order to earn higher profits next harvest and increase long-term prosperity.', 'location': {'country_code': 'NG', 'country': 'Nigeria', 'town': 'Kaduna', 'geo': {'level': 'town', 'pairs': '10.510464 7.416505', 'type': 'point'}}, 'partner_id': 288, 'posted_date': '2018-11-12T21:20:08Z', 'planned_expiration_date': '2018-12-12T21:20:08Z', 'loan_amount': 50, 'borrower_count': 1, 'lender_count': 2, 'bonus_credit_eligibility': True, 'tags': [{'name': '#Vegan'}]}, {'id': 1639696, 'name': 'Mariam', 'description': {'languages': ['en']}, 'status': 'funded', 'funded_amount': 100, 'image': {'id': 2990370, 'template_id': 1}, 'activity': 'Clothing Sales', 'sector': 'Clothing', 'themes': ['Vulnerable Groups', 'Youth'], 'use': 'to buy clothes for resell.', 'location': {'country_code': 'UG', 'country': 'Uganda', 'town': 'Kaliro', 'geo': {'level': 'town', 'pairs': '1.043111 33.483191', 'type': 'point'}}, 'partner_id': 65, 'posted_date': '2018-11-12T21:20:02Z', 'planned_expiration_date': '2018-12-12T21:20:02Z', 'loan_amount': 100, 'borrower_count': 1, 'lender_count': 4, 'bonus_credit_eligibility': True, 'tags': []}, {'id': 1642818, 'name': 'Usman', 'description': {'languages': ['en']}, 'status': 'funded', 'funded_amount': 50, 'image': {'id': 2994341, 'template_id': 1}, 'activity': 'Primary/secondary school costs', 'sector': 'Education', 'themes': ['Underfunded Areas', 'Innovative Loans', 'Vulnerable Groups', 'Rural Exclusion', 'Conflict Zones'], 'use': 'to pay for his children’s tuition and uniforms for the next term, thereby eliminating pressure to sell corn for low prices at harvest and increasing farm margins.', 'location': {'country_code': 'NG', 'country': 'Nigeria', 'town': 'Kaduna', 'geo': {'level': 'town', 'pairs': '10.510464 7.416505', 'type': 'point'}}, 'partner_id': 288, 'posted_date': '2018-11-12T21:00:07Z', 'planned_expiration_date': '2018-12-12T21:00:07Z', 'loan_amount': 50, 'borrower_count': 1, 'lender_count': 2, 'bonus_credit_eligibility': True, 'tags': [{'name': '#Vegan'}, {'name': '#Schooling'}]}, {'id': 1642835, 'name': 'Jackline', 'description': {'languages': ['en']}, 'status': 'funded', 'funded_amount': 600, 'image': {'id': 2994360, 'template_id': 1}, 'activity': 'Farming', 'sector': 'Agriculture', 'themes': ['Rural Exclusion'], 'use': 'to buy farming inputs such as seeds and high-nutrient fertilizers to improve her harvest and eventually, through profits, to build a modern house.', 'location': {'country_code': 'KE', 'country': 'Kenya', 'town': 'Matuu', 'geo': {'level': 'town', 'pairs': '-1.1407 37.548124', 'type': 'point'}}, 'partner_id': 156, 'posted_date': '2018-11-12T21:00:06Z', 'planned_expiration_date': '2018-12-12T21:00:06Z', 'loan_amount': 600, 'borrower_count': 1, 'lender_count': 18, 'bonus_credit_eligibility': True, 'tags': [{'name': 'user_favorite'}]}]\n"
     ]
    }
   ],
   "source": [
    "print(search())"
   ]
  },
  {
   "cell_type": "markdown",
   "metadata": {},
   "source": [
    "Get details on one loan using id"
   ]
  },
  {
   "cell_type": "code",
   "execution_count": 150,
   "metadata": {},
   "outputs": [],
   "source": [
    "def getLoanDetail(loan_id):\n",
    "    req = KivaApi.GET_LOAN.value + str(loan_id) +\".json\"\n",
    "    \n",
    "    #print(req)\n",
    "    \n",
    "    response = requests.get(req)\n",
    "    \n",
    "    if response.status_code != 200:\n",
    "        raise ValueError('Kiva API request failed: status_code =' + str(response.status_code))\n",
    "    \n",
    "    return json.loads(response.content)\n",
    "    "
   ]
  },
  {
   "cell_type": "markdown",
   "metadata": {},
   "source": [
    "To test getLoanDetail"
   ]
  },
  {
   "cell_type": "code",
   "execution_count": 149,
   "metadata": {},
   "outputs": [
    {
     "name": "stdout",
     "output_type": "stream",
     "text": [
      "https://api.kivaws.org/v1/loans/1643228.json\n",
      "{'loans': [{'id': 1643228, 'name': 'Teresita', 'description': {'languages': ['en'], 'texts': {'en': 'Teresita is 64 years old and married with one child in school, She works very hard to provide for her family.<br /><br />Teresita runs a general store in the Philippines and requested a loan of 25,000 Philippine pesos (PHP) through NWTF to buy items to sell such as beverages, canned goods, junk food, and other groceries. She has been in this business for 13 years and sells a variety of items. <br /><br />In the future, Teresita would like to save enough to provide a secure future for her family.'}}, 'status': 'funded', 'funded_amount': 500, 'image': {'id': 2994835, 'template_id': 1}, 'activity': 'General Store', 'sector': 'Retail', 'use': 'to buy items to sell such as beverages, canned goods, junk food, and other groceries.', 'location': {'country_code': 'PH', 'country': 'Philippines', 'town': 'Tacloban City, Leyte', 'geo': {'level': 'town', 'pairs': '11.254339 124.961687', 'type': 'point'}}, 'partner_id': 145, 'posted_date': '2018-11-13T04:00:09Z', 'planned_expiration_date': '2018-12-13T04:00:09Z', 'loan_amount': 500, 'lender_count': 7, 'bonus_credit_eligibility': True, 'tags': [{'name': '#Woman Owned Biz'}, {'name': '#Elderly'}], 'borrowers': [{'first_name': 'Teresita', 'last_name': '', 'gender': 'F', 'pictured': True}], 'terms': {'disbursal_date': '2018-10-10T07:00:00Z', 'disbursal_currency': 'PHP', 'disbursal_amount': 25000, 'repayment_interval': 'Monthly', 'repayment_term': 5, 'loan_amount': 500, 'local_payments': [], 'scheduled_payments': [], 'loss_liability': {'nonpayment': 'lender', 'currency_exchange': 'shared', 'currency_exchange_coverage_rate': 0.1}}, 'payments': [], 'funded_date': '2018-11-13T04:28:10Z', 'journal_totals': {'entries': 0, 'bulkEntries': 0}, 'translator': {'byline': 'Supryia Ray'}}]}\n"
     ]
    }
   ],
   "source": [
    "print(getLoanDetail(1643228))"
   ]
  },
  {
   "cell_type": "markdown",
   "metadata": {},
   "source": [
    "Get a list of lenders for a loan (assumes list will not be longer than one page)"
   ]
  },
  {
   "cell_type": "code",
   "execution_count": 96,
   "metadata": {},
   "outputs": [],
   "source": [
    "def getLendersForLoan(loan_id):\n",
    "    req = KivaApi.GET_LOAN.value + str(loan_id) +\"/lenders.json\"\n",
    "    \n",
    "    #print(req)\n",
    "    \n",
    "    response = requests.get(req)\n",
    "    \n",
    "    if response.status_code != 200:\n",
    "        raise ValueError('Kiva API request failed: status_code =' + str(response.status_code))\n",
    "\n",
    "    return json.loads(response.content).get('lenders')"
   ]
  },
  {
   "cell_type": "markdown",
   "metadata": {},
   "source": [
    "Test of getLenderForLoan"
   ]
  },
  {
   "cell_type": "code",
   "execution_count": 151,
   "metadata": {},
   "outputs": [
    {
     "name": "stdout",
     "output_type": "stream",
     "text": [
      "[{'lender_id': 'mark2704', 'name': 'Mark', 'image': {'id': 1691804, 'template_id': 1}, 'whereabouts': 'Georgia', 'country_code': 'US', 'uid': 'mark2704'}, {'lender_id': 'aaron63004970', 'name': 'Aaron', 'image': {'id': 726677, 'template_id': 1}, 'whereabouts': '', 'uid': 'aaron63004970'}, {'lender_id': 'compadres9375', 'name': 'Compadres Foundation', 'image': {'id': 1002514, 'template_id': 1}, 'whereabouts': 'Temecula CA', 'country_code': 'US', 'uid': 'compadres9375'}, {'lender_id': 'JY1024', 'name': 'Johnny', 'image': {'id': 726677, 'template_id': 1}, 'whereabouts': 'Cantabrigia', 'country_code': 'US', 'uid': 'jy1024'}, {'lender_id': 'michael43411218', 'name': 'Michael', 'image': {'id': 1384783, 'template_id': 1}, 'whereabouts': 'Dallas Texas', 'country_code': 'US', 'uid': 'michael43411218'}, {'name': 'Anonymous', 'image': {'id': 726677, 'template_id': 1}}, {'lender_id': 'markus4455', 'name': 'Nullinger', 'image': {'id': 619142, 'template_id': 1}, 'whereabouts': 'Babenhausen Bavaria', 'country_code': 'DE', 'uid': 'markus4455'}]\n"
     ]
    }
   ],
   "source": [
    "print(getLendersForLoan(1643228))"
   ]
  },
  {
   "cell_type": "markdown",
   "metadata": {},
   "source": [
    "Records payments made to lenders for a specific loan (in production this would normally link to the actual payment record and round to the nearest penny)."
   ]
  },
  {
   "cell_type": "code",
   "execution_count": 140,
   "metadata": {},
   "outputs": [],
   "source": [
    "def recordPayment(lenders, amount_paid):\n",
    "    \n",
    "    if lenders:\n",
    "        amt = amount_paid/len(lenders)\n",
    "    \n",
    "        to_insert = []\n",
    "        \n",
    "        for l in lenders:\n",
    "            if \"lender_id\" in l:\n",
    "                to_insert.append({\"lender_id\": l[\"lender_id\"], \"amount\": amt})\n",
    "        \n",
    "        client = pymongo.MongoClient(\"mongodb://localhost:27017/\")\n",
    "        db = client[\"kivapayments\"]\n",
    "        db.payments.insert_many(to_insert)    "
   ]
  },
  {
   "cell_type": "markdown",
   "metadata": {},
   "source": [
    "Test of recordPayment"
   ]
  },
  {
   "cell_type": "code",
   "execution_count": 141,
   "metadata": {},
   "outputs": [],
   "source": [
    "d = getLendersForLoan(1643228)\n",
    "recordPayment(d, 1000)"
   ]
  },
  {
   "cell_type": "markdown",
   "metadata": {},
   "source": [
    "And just for fun here is a single graphql query to return list of lenders using the id of the loan. Note that the lender id uses the alias \"lender_id\" to be compatable with the recordPayment function above."
   ]
  },
  {
   "cell_type": "code",
   "execution_count": 183,
   "metadata": {},
   "outputs": [],
   "source": [
    "def getLendersGraphQL(loan_id):\n",
    "    query = \"\"\"\n",
    "{\n",
    "  lend {\n",
    "    loan(id: \"\"\" + str(loan_id) + \"\"\")\n",
    "     {\n",
    "        lenders (limit: 20) {        \n",
    "          values {lender_id: id}\n",
    "        }\n",
    "    }\n",
    "  }\n",
    "}\n",
    "\"\"\"\n",
    "    #print(query)\n",
    "    url = KivaApi.BASE_URL.value + \"/graphql\"\n",
    "    \n",
    "    response = requests.post(url, json={'query':query})\n",
    "    \n",
    "    if response.status_code != 200:\n",
    "        raise ValueError('Kiva API request failed: status_code =' + str(response.status_code))\n",
    "\n",
    "    return response.json()[\"data\"][\"lend\"][\"loan\"][\"lenders\"][\"values\"]"
   ]
  },
  {
   "cell_type": "code",
   "execution_count": 186,
   "metadata": {},
   "outputs": [],
   "source": [
    "d = getLendersGraphQL(1643228)\n",
    "recordPayment(d, 200)"
   ]
  },
  {
   "cell_type": "code",
   "execution_count": null,
   "metadata": {},
   "outputs": [],
   "source": []
  }
 ],
 "metadata": {
  "kernelspec": {
   "display_name": "Python 3",
   "language": "python",
   "name": "python3"
  },
  "language_info": {
   "codemirror_mode": {
    "name": "ipython",
    "version": 3
   },
   "file_extension": ".py",
   "mimetype": "text/x-python",
   "name": "python",
   "nbconvert_exporter": "python",
   "pygments_lexer": "ipython3",
   "version": "3.7.0"
  }
 },
 "nbformat": 4,
 "nbformat_minor": 2
}
